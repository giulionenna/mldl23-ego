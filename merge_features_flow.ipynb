{
 "cells": [
  {
   "cell_type": "code",
   "execution_count": 2,
   "metadata": {},
   "outputs": [],
   "source": [
    "import pandas as pd\n",
    "import hickle\n",
    "import numpy as np\n",
    "import pickle"
   ]
  },
  {
   "cell_type": "code",
   "execution_count": 2,
   "metadata": {},
   "outputs": [],
   "source": [
    "def writePickle(filename,a):\n",
    "    with open(filename, 'wb') as handle:\n",
    "        pickle.dump(a, handle, protocol=pickle.HIGHEST_PROTOCOL)\n"
   ]
  },
  {
   "cell_type": "code",
   "execution_count": 3,
   "metadata": {},
   "outputs": [],
   "source": [
    "def addElementToDict(d,subfeat,len,new_c,new_c_name):\n",
    "    #new_c : new coloumn\n",
    "    d_out = d\n",
    "    for i in range(0,len):\n",
    "        d_out[subfeat][i][new_c_name] = np.float32(new_c[i,:,:])\n",
    "    return d_out"
   ]
  },
  {
   "cell_type": "code",
   "execution_count": 8,
   "metadata": {},
   "outputs": [],
   "source": [
    "def mergeDatasets(domain,source):\n",
    "    org_path = \"RGB_Audio_features/test_feat_rgb_audio_\"+domain+\"_\"+source+\".pkl\"\n",
    "    audio_path = \"Flow_feat/ek_i3d/\"+domain+\"-\"+domain+\"_\"+source+\".pkl\"\n",
    "    data = pd.DataFrame(pd.read_pickle(org_path))\n",
    "    dic_org = pd.read_pickle(org_path)\n",
    "\n",
    "    with open(audio_path, 'rb') as f:\n",
    "        prova= pickle.load(f)\n",
    "\n",
    "    new_feats = prova[\"features\"][\"Flow\"]\n",
    "    \n",
    "    #Method 1\n",
    "    #old_dataset = data.to_dict()\n",
    "    old_dataset = dic_org\n",
    "    new_dataset = addElementToDict(old_dataset,\"features\",data.shape[0],new_feats,\"features_flow\")\n",
    "    \n",
    "    filename = \"RGB_Audio_Flow_features/test_feat_rgb_audio_flow_\"+domain+\"_\"+source+\".pkl\"\n",
    "    writePickle(filename,new_dataset)\n",
    "    #df.to_pickle(filename)  \n",
    "    "
   ]
  },
  {
   "cell_type": "code",
   "execution_count": 9,
   "metadata": {},
   "outputs": [],
   "source": [
    "#original features path:\n",
    "domain = [\"D1\",\"D2\",\"D3\"]\n",
    "source = [\"train\",\"test\"]\n",
    "\n",
    "for d in domain:\n",
    "    for s in source:\n",
    "        mergeDatasets(d,s)"
   ]
  },
  {
   "attachments": {},
   "cell_type": "markdown",
   "metadata": {},
   "source": [
    "# Prove"
   ]
  },
  {
   "cell_type": "code",
   "execution_count": 3,
   "metadata": {},
   "outputs": [],
   "source": [
    "path_prova = \"RGB_Audio_Flow_features/test_feat_rgb_audio_flow_D1_test.pkl\"\n",
    "#path_prova = \"RGB_Audio_features/test_feat_rgb_audio_flow_D1_test.pkl\"\n",
    "data = pd.DataFrame(pd.read_pickle(path_prova)['features'])"
   ]
  },
  {
   "cell_type": "code",
   "execution_count": 10,
   "metadata": {},
   "outputs": [
    {
     "data": {
      "text/html": [
       "<div>\n",
       "<style scoped>\n",
       "    .dataframe tbody tr th:only-of-type {\n",
       "        vertical-align: middle;\n",
       "    }\n",
       "\n",
       "    .dataframe tbody tr th {\n",
       "        vertical-align: top;\n",
       "    }\n",
       "\n",
       "    .dataframe thead th {\n",
       "        text-align: right;\n",
       "    }\n",
       "</style>\n",
       "<table border=\"1\" class=\"dataframe\">\n",
       "  <thead>\n",
       "    <tr style=\"text-align: right;\">\n",
       "      <th></th>\n",
       "      <th>uid</th>\n",
       "      <th>video_name</th>\n",
       "      <th>features_RGB</th>\n",
       "      <th>features_audio</th>\n",
       "      <th>features_flow</th>\n",
       "    </tr>\n",
       "  </thead>\n",
       "  <tbody>\n",
       "    <tr>\n",
       "      <th>0</th>\n",
       "      <td>13744</td>\n",
       "      <td>P08_09</td>\n",
       "      <td>[[0.13747904, 0.23923221, 0.2590953, 0.0984913...</td>\n",
       "      <td>[[0.88483644, 0.09178007, 0.47732332, 1.296371...</td>\n",
       "      <td>[[0.46731305, 0.19677353, 0.46114296, 0.065304...</td>\n",
       "    </tr>\n",
       "    <tr>\n",
       "      <th>1</th>\n",
       "      <td>13747</td>\n",
       "      <td>P08_09</td>\n",
       "      <td>[[0.1731059, 0.028000666, 0.071734056, 0.09211...</td>\n",
       "      <td>[[0.5805651, 0.07894321, 0.12858108, 0.8904043...</td>\n",
       "      <td>[[0.07150991, 0.0096373735, 0.2364182, 0.00396...</td>\n",
       "    </tr>\n",
       "    <tr>\n",
       "      <th>2</th>\n",
       "      <td>13748</td>\n",
       "      <td>P08_09</td>\n",
       "      <td>[[0.21590331, 0.043752804, 0.43052337, 0.29836...</td>\n",
       "      <td>[[1.436042, 0.6993999, 0.12094874, 1.1587638, ...</td>\n",
       "      <td>[[0.11344236, 0.052841015, 0.0825015, 0.0, 0.1...</td>\n",
       "    </tr>\n",
       "    <tr>\n",
       "      <th>3</th>\n",
       "      <td>13749</td>\n",
       "      <td>P08_09</td>\n",
       "      <td>[[0.12467901, 0.2825011, 0.5454443, 0.24309717...</td>\n",
       "      <td>[[0.33839667, 0.36650792, 0.512727, 0.23318793...</td>\n",
       "      <td>[[0.019620085, 0.18086638, 0.07106747, 0.02155...</td>\n",
       "    </tr>\n",
       "    <tr>\n",
       "      <th>4</th>\n",
       "      <td>13751</td>\n",
       "      <td>P08_09</td>\n",
       "      <td>[[0.26293403, 0.012039756, 0.20156315, 0.10622...</td>\n",
       "      <td>[[1.836372, 0.81088006, 0.24754378, 0.3652511,...</td>\n",
       "      <td>[[0.290668, 0.018503323, 0.058588374, 0.013658...</td>\n",
       "    </tr>\n",
       "    <tr>\n",
       "      <th>...</th>\n",
       "      <td>...</td>\n",
       "      <td>...</td>\n",
       "      <td>...</td>\n",
       "      <td>...</td>\n",
       "      <td>...</td>\n",
       "    </tr>\n",
       "    <tr>\n",
       "      <th>430</th>\n",
       "      <td>14431</td>\n",
       "      <td>P08_17</td>\n",
       "      <td>[[0.08767702, 0.0003429865, 0.41994748, 0.0334...</td>\n",
       "      <td>[[0.8588063, 1.6948118, 0.5995295, 0.08366149,...</td>\n",
       "      <td>[[0.123328865, 0.07551881, 0.011088041, 0.1919...</td>\n",
       "    </tr>\n",
       "    <tr>\n",
       "      <th>431</th>\n",
       "      <td>14432</td>\n",
       "      <td>P08_17</td>\n",
       "      <td>[[0.32150513, 0.23288584, 0.29539204, 0.379329...</td>\n",
       "      <td>[[0.08577179, 0.7903393, 1.441351, 0.037490822...</td>\n",
       "      <td>[[0.41510776, 0.15730627, 0.13884242, 0.193048...</td>\n",
       "    </tr>\n",
       "    <tr>\n",
       "      <th>432</th>\n",
       "      <td>14433</td>\n",
       "      <td>P08_17</td>\n",
       "      <td>[[0.19462515, 0.3236742, 0.42935452, 0.6884499...</td>\n",
       "      <td>[[0.2706717, 0.23317184, 0.28099298, 0.2585801...</td>\n",
       "      <td>[[0.11073622, 0.027599376, 0.19928244, 0.05585...</td>\n",
       "    </tr>\n",
       "    <tr>\n",
       "      <th>433</th>\n",
       "      <td>14434</td>\n",
       "      <td>P08_17</td>\n",
       "      <td>[[0.19967644, 0.12127315, 0.081630394, 0.10148...</td>\n",
       "      <td>[[0.35042292, 0.9423034, 0.23200399, 0.1174515...</td>\n",
       "      <td>[[0.7727423, 0.09038317, 0.011737296, 0.776807...</td>\n",
       "    </tr>\n",
       "    <tr>\n",
       "      <th>434</th>\n",
       "      <td>14435</td>\n",
       "      <td>P08_17</td>\n",
       "      <td>[[0.08872443, 0.25127116, 0.024152985, 0.12715...</td>\n",
       "      <td>[[0.9389708, 0.51444983, 0.30707866, 0.4969634...</td>\n",
       "      <td>[[0.060889557, 0.25171977, 0.31035247, 0.16270...</td>\n",
       "    </tr>\n",
       "  </tbody>\n",
       "</table>\n",
       "<p>435 rows × 5 columns</p>\n",
       "</div>"
      ],
      "text/plain": [
       "       uid video_name                                       features_RGB  \\\n",
       "0    13744     P08_09  [[0.13747904, 0.23923221, 0.2590953, 0.0984913...   \n",
       "1    13747     P08_09  [[0.1731059, 0.028000666, 0.071734056, 0.09211...   \n",
       "2    13748     P08_09  [[0.21590331, 0.043752804, 0.43052337, 0.29836...   \n",
       "3    13749     P08_09  [[0.12467901, 0.2825011, 0.5454443, 0.24309717...   \n",
       "4    13751     P08_09  [[0.26293403, 0.012039756, 0.20156315, 0.10622...   \n",
       "..     ...        ...                                                ...   \n",
       "430  14431     P08_17  [[0.08767702, 0.0003429865, 0.41994748, 0.0334...   \n",
       "431  14432     P08_17  [[0.32150513, 0.23288584, 0.29539204, 0.379329...   \n",
       "432  14433     P08_17  [[0.19462515, 0.3236742, 0.42935452, 0.6884499...   \n",
       "433  14434     P08_17  [[0.19967644, 0.12127315, 0.081630394, 0.10148...   \n",
       "434  14435     P08_17  [[0.08872443, 0.25127116, 0.024152985, 0.12715...   \n",
       "\n",
       "                                        features_audio  \\\n",
       "0    [[0.88483644, 0.09178007, 0.47732332, 1.296371...   \n",
       "1    [[0.5805651, 0.07894321, 0.12858108, 0.8904043...   \n",
       "2    [[1.436042, 0.6993999, 0.12094874, 1.1587638, ...   \n",
       "3    [[0.33839667, 0.36650792, 0.512727, 0.23318793...   \n",
       "4    [[1.836372, 0.81088006, 0.24754378, 0.3652511,...   \n",
       "..                                                 ...   \n",
       "430  [[0.8588063, 1.6948118, 0.5995295, 0.08366149,...   \n",
       "431  [[0.08577179, 0.7903393, 1.441351, 0.037490822...   \n",
       "432  [[0.2706717, 0.23317184, 0.28099298, 0.2585801...   \n",
       "433  [[0.35042292, 0.9423034, 0.23200399, 0.1174515...   \n",
       "434  [[0.9389708, 0.51444983, 0.30707866, 0.4969634...   \n",
       "\n",
       "                                         features_flow  \n",
       "0    [[0.46731305, 0.19677353, 0.46114296, 0.065304...  \n",
       "1    [[0.07150991, 0.0096373735, 0.2364182, 0.00396...  \n",
       "2    [[0.11344236, 0.052841015, 0.0825015, 0.0, 0.1...  \n",
       "3    [[0.019620085, 0.18086638, 0.07106747, 0.02155...  \n",
       "4    [[0.290668, 0.018503323, 0.058588374, 0.013658...  \n",
       "..                                                 ...  \n",
       "430  [[0.123328865, 0.07551881, 0.011088041, 0.1919...  \n",
       "431  [[0.41510776, 0.15730627, 0.13884242, 0.193048...  \n",
       "432  [[0.11073622, 0.027599376, 0.19928244, 0.05585...  \n",
       "433  [[0.7727423, 0.09038317, 0.011737296, 0.776807...  \n",
       "434  [[0.060889557, 0.25171977, 0.31035247, 0.16270...  \n",
       "\n",
       "[435 rows x 5 columns]"
      ]
     },
     "execution_count": 10,
     "metadata": {},
     "output_type": "execute_result"
    }
   ],
   "source": [
    "data"
   ]
  },
  {
   "cell_type": "code",
   "execution_count": 147,
   "metadata": {},
   "outputs": [
    {
     "name": "stdout",
     "output_type": "stream",
     "text": [
      "                                              features\n",
      "0    {'uid': 13744, 'video_name': 'P08_09', 'featur...\n",
      "1    {'uid': 13747, 'video_name': 'P08_09', 'featur...\n",
      "2    {'uid': 13748, 'video_name': 'P08_09', 'featur...\n",
      "3    {'uid': 13749, 'video_name': 'P08_09', 'featur...\n",
      "4    {'uid': 13751, 'video_name': 'P08_09', 'featur...\n",
      "..                                                 ...\n",
      "430  {'uid': 14431, 'video_name': 'P08_17', 'featur...\n",
      "431  {'uid': 14432, 'video_name': 'P08_17', 'featur...\n",
      "432  {'uid': 14433, 'video_name': 'P08_17', 'featur...\n",
      "433  {'uid': 14434, 'video_name': 'P08_17', 'featur...\n",
      "434  {'uid': 14435, 'video_name': 'P08_17', 'featur...\n",
      "\n",
      "[435 rows x 1 columns]\n"
     ]
    }
   ],
   "source": [
    "prova = pd.read_pickle(path_prova)\n",
    "print(prova)"
   ]
  },
  {
   "cell_type": "code",
   "execution_count": 136,
   "metadata": {},
   "outputs": [
    {
     "data": {
      "text/html": [
       "<div>\n",
       "<style scoped>\n",
       "    .dataframe tbody tr th:only-of-type {\n",
       "        vertical-align: middle;\n",
       "    }\n",
       "\n",
       "    .dataframe tbody tr th {\n",
       "        vertical-align: top;\n",
       "    }\n",
       "\n",
       "    .dataframe thead th {\n",
       "        text-align: right;\n",
       "    }\n",
       "</style>\n",
       "<table border=\"1\" class=\"dataframe\">\n",
       "  <thead>\n",
       "    <tr style=\"text-align: right;\">\n",
       "      <th></th>\n",
       "      <th>features</th>\n",
       "    </tr>\n",
       "  </thead>\n",
       "  <tbody>\n",
       "    <tr>\n",
       "      <th>0</th>\n",
       "      <td>{'uid': 13744, 'video_name': 'P08_09', 'featur...</td>\n",
       "    </tr>\n",
       "    <tr>\n",
       "      <th>1</th>\n",
       "      <td>{'uid': 13747, 'video_name': 'P08_09', 'featur...</td>\n",
       "    </tr>\n",
       "    <tr>\n",
       "      <th>2</th>\n",
       "      <td>{'uid': 13748, 'video_name': 'P08_09', 'featur...</td>\n",
       "    </tr>\n",
       "    <tr>\n",
       "      <th>3</th>\n",
       "      <td>{'uid': 13749, 'video_name': 'P08_09', 'featur...</td>\n",
       "    </tr>\n",
       "    <tr>\n",
       "      <th>4</th>\n",
       "      <td>{'uid': 13751, 'video_name': 'P08_09', 'featur...</td>\n",
       "    </tr>\n",
       "    <tr>\n",
       "      <th>...</th>\n",
       "      <td>...</td>\n",
       "    </tr>\n",
       "    <tr>\n",
       "      <th>430</th>\n",
       "      <td>{'uid': 14431, 'video_name': 'P08_17', 'featur...</td>\n",
       "    </tr>\n",
       "    <tr>\n",
       "      <th>431</th>\n",
       "      <td>{'uid': 14432, 'video_name': 'P08_17', 'featur...</td>\n",
       "    </tr>\n",
       "    <tr>\n",
       "      <th>432</th>\n",
       "      <td>{'uid': 14433, 'video_name': 'P08_17', 'featur...</td>\n",
       "    </tr>\n",
       "    <tr>\n",
       "      <th>433</th>\n",
       "      <td>{'uid': 14434, 'video_name': 'P08_17', 'featur...</td>\n",
       "    </tr>\n",
       "    <tr>\n",
       "      <th>434</th>\n",
       "      <td>{'uid': 14435, 'video_name': 'P08_17', 'featur...</td>\n",
       "    </tr>\n",
       "  </tbody>\n",
       "</table>\n",
       "<p>435 rows × 1 columns</p>\n",
       "</div>"
      ],
      "text/plain": [
       "                                              features\n",
       "0    {'uid': 13744, 'video_name': 'P08_09', 'featur...\n",
       "1    {'uid': 13747, 'video_name': 'P08_09', 'featur...\n",
       "2    {'uid': 13748, 'video_name': 'P08_09', 'featur...\n",
       "3    {'uid': 13749, 'video_name': 'P08_09', 'featur...\n",
       "4    {'uid': 13751, 'video_name': 'P08_09', 'featur...\n",
       "..                                                 ...\n",
       "430  {'uid': 14431, 'video_name': 'P08_17', 'featur...\n",
       "431  {'uid': 14432, 'video_name': 'P08_17', 'featur...\n",
       "432  {'uid': 14433, 'video_name': 'P08_17', 'featur...\n",
       "433  {'uid': 14434, 'video_name': 'P08_17', 'featur...\n",
       "434  {'uid': 14435, 'video_name': 'P08_17', 'featur...\n",
       "\n",
       "[435 rows x 1 columns]"
      ]
     },
     "execution_count": 136,
     "metadata": {},
     "output_type": "execute_result"
    }
   ],
   "source": [
    "data"
   ]
  },
  {
   "cell_type": "code",
   "execution_count": 137,
   "metadata": {},
   "outputs": [],
   "source": [
    "path_org = \"saved_features/test_feat_kinetics_D1_test.pkl\"\n",
    "org = pd.DataFrame(pd.read_pickle(path_org)['features'])\n",
    "org2 = pd.DataFrame(pd.read_pickle(path_org))"
   ]
  },
  {
   "cell_type": "code",
   "execution_count": null,
   "metadata": {},
   "outputs": [],
   "source": [
    "org_path = \"saved_features/test_feat_kinetics_D1_test.pkl\"\n",
    "data2 = pd.DataFrame(pd.read_pickle(org_path)['features'])"
   ]
  },
  {
   "cell_type": "code",
   "execution_count": 149,
   "metadata": {},
   "outputs": [
    {
     "name": "stdout",
     "output_type": "stream",
     "text": [
      "[{'features': {'a': 1, 'b': 2, 'c': 3}}, {'features': {'a': 2, 'b': 3, 'c': 4}}, {'features': {'a': 4, 'b': 5, 'c': 6}}]\n",
      "[{'features': {'a': 1, 'b': 2, 'c': 3}}, {'features': {'a': 2, 'b': 3, 'c': 4}}, {'features': {'a': 4, 'b': 5, 'c': 6}}, {'features': {'a': 4, 'b': 5, 'c': 5}}]\n"
     ]
    }
   ],
   "source": [
    "d1 = {'features':{'a':1,'b':2,'c':3}}\n",
    "d2 = {'features':{'a':2,'b':3,'c':4}}\n",
    "d3 = {'features':{'a':4,'b':5,'c':6}}\n",
    "d4 = {'features':{'a':4,'b':5,'c':5}}\n",
    "dl = [d1,d2,d3]\n",
    "print(dl)\n",
    "dl.append(d4)\n",
    "print(dl)\n",
    "\n",
    "dfinale = {'features':dl}"
   ]
  },
  {
   "cell_type": "code",
   "execution_count": 150,
   "metadata": {},
   "outputs": [
    {
     "data": {
      "text/plain": [
       "{'features': [{'features': {'a': 1, 'b': 2, 'c': 3}},\n",
       "  {'features': {'a': 2, 'b': 3, 'c': 4}},\n",
       "  {'features': {'a': 4, 'b': 5, 'c': 6}},\n",
       "  {'features': {'a': 4, 'b': 5, 'c': 5}}]}"
      ]
     },
     "execution_count": 150,
     "metadata": {},
     "output_type": "execute_result"
    }
   ],
   "source": [
    "dfinale"
   ]
  },
  {
   "cell_type": "code",
   "execution_count": 114,
   "metadata": {},
   "outputs": [
    {
     "data": {
      "text/plain": [
       "[{'features': {'a': 1, 'b': 2, 'c': 3}},\n",
       " {'features': {'a': 2, 'b': 3, 'c': 4}},\n",
       " {'features': {'a': 4, 'b': 5, 'c': 6}}]"
      ]
     },
     "execution_count": 114,
     "metadata": {},
     "output_type": "execute_result"
    }
   ],
   "source": [
    "dl"
   ]
  },
  {
   "cell_type": "code",
   "execution_count": 115,
   "metadata": {},
   "outputs": [],
   "source": [
    "df = pd.DataFrame(dl)"
   ]
  },
  {
   "cell_type": "code",
   "execution_count": 116,
   "metadata": {},
   "outputs": [
    {
     "data": {
      "text/html": [
       "<div>\n",
       "<style scoped>\n",
       "    .dataframe tbody tr th:only-of-type {\n",
       "        vertical-align: middle;\n",
       "    }\n",
       "\n",
       "    .dataframe tbody tr th {\n",
       "        vertical-align: top;\n",
       "    }\n",
       "\n",
       "    .dataframe thead th {\n",
       "        text-align: right;\n",
       "    }\n",
       "</style>\n",
       "<table border=\"1\" class=\"dataframe\">\n",
       "  <thead>\n",
       "    <tr style=\"text-align: right;\">\n",
       "      <th></th>\n",
       "      <th>features</th>\n",
       "    </tr>\n",
       "  </thead>\n",
       "  <tbody>\n",
       "    <tr>\n",
       "      <th>0</th>\n",
       "      <td>{'a': 1, 'b': 2, 'c': 3}</td>\n",
       "    </tr>\n",
       "    <tr>\n",
       "      <th>1</th>\n",
       "      <td>{'a': 2, 'b': 3, 'c': 4}</td>\n",
       "    </tr>\n",
       "    <tr>\n",
       "      <th>2</th>\n",
       "      <td>{'a': 4, 'b': 5, 'c': 6}</td>\n",
       "    </tr>\n",
       "  </tbody>\n",
       "</table>\n",
       "</div>"
      ],
      "text/plain": [
       "                   features\n",
       "0  {'a': 1, 'b': 2, 'c': 3}\n",
       "1  {'a': 2, 'b': 3, 'c': 4}\n",
       "2  {'a': 4, 'b': 5, 'c': 6}"
      ]
     },
     "execution_count": 116,
     "metadata": {},
     "output_type": "execute_result"
    }
   ],
   "source": [
    "df"
   ]
  },
  {
   "cell_type": "code",
   "execution_count": 118,
   "metadata": {},
   "outputs": [
    {
     "data": {
      "text/plain": [
       "0    {'a': 1, 'b': 2, 'c': 3}\n",
       "1    {'a': 2, 'b': 3, 'c': 4}\n",
       "2    {'a': 4, 'b': 5, 'c': 6}\n",
       "Name: features, dtype: object"
      ]
     },
     "execution_count": 118,
     "metadata": {},
     "output_type": "execute_result"
    }
   ],
   "source": [
    "df['features']"
   ]
  },
  {
   "cell_type": "code",
   "execution_count": null,
   "metadata": {},
   "outputs": [],
   "source": []
  }
 ],
 "metadata": {
  "kernelspec": {
   "display_name": "Python 3",
   "language": "python",
   "name": "python3"
  },
  "language_info": {
   "codemirror_mode": {
    "name": "ipython",
    "version": 3
   },
   "file_extension": ".py",
   "mimetype": "text/x-python",
   "name": "python",
   "nbconvert_exporter": "python",
   "pygments_lexer": "ipython3",
   "version": "3.10.0"
  },
  "orig_nbformat": 4
 },
 "nbformat": 4,
 "nbformat_minor": 2
}
